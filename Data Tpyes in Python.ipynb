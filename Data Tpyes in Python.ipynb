{
 "cells": [
  {
   "cell_type": "markdown",
   "id": "49de66c9-8ab9-4d75-9c87-7d759d614c65",
   "metadata": {},
   "source": [
    "## Data Types in Python"
   ]
  },
  {
   "cell_type": "code",
   "execution_count": 1,
   "id": "f6a74c5b-2133-4d28-8d84-9f98136563bd",
   "metadata": {},
   "outputs": [],
   "source": [
    "# A) Number\n",
    "#1) Integer\n",
    "#2) Float\n",
    "#3) Complex Numberr\n",
    "\n",
    "#B) Strings"
   ]
  },
  {
   "cell_type": "markdown",
   "id": "d31fb9b6-1efd-433b-a64f-f78646bb4e67",
   "metadata": {},
   "source": [
    "## Integer"
   ]
  },
  {
   "cell_type": "code",
   "execution_count": 1,
   "id": "cf756786-1e15-451f-9811-3c1e407e5717",
   "metadata": {},
   "outputs": [
    {
     "name": "stdout",
     "output_type": "stream",
     "text": [
      "<class 'int'>\n",
      "<class 'int'>\n",
      "<class 'int'>\n"
     ]
    }
   ],
   "source": [
    "a = 10\n",
    "b = 20\n",
    "c = 30\n",
    "\n",
    "print(type(a))\n",
    "print(type(b))\n",
    "print(type(c))"
   ]
  },
  {
   "cell_type": "markdown",
   "id": "6aaa5f57-df7b-4e57-b386-9ff77632eb94",
   "metadata": {},
   "source": [
    "## Float"
   ]
  },
  {
   "cell_type": "code",
   "execution_count": 1,
   "id": "c3a42c60-9769-4f43-8517-b4627de79546",
   "metadata": {},
   "outputs": [
    {
     "name": "stdout",
     "output_type": "stream",
     "text": [
      "<class 'float'>\n",
      "<class 'float'>\n",
      "<class 'float'>\n"
     ]
    }
   ],
   "source": [
    "x = 100.12\n",
    "pi = 3.1428\n",
    "g = 9.8\n",
    "\n",
    "print(type(x))\n",
    "print(type(pi))\n",
    "print(type(g))"
   ]
  },
  {
   "cell_type": "code",
   "execution_count": null,
   "id": "96c190bc-7b82-4211-b9e7-8be5fe67bc00",
   "metadata": {},
   "outputs": [],
   "source": []
  },
  {
   "cell_type": "markdown",
   "id": "f4bdd536-5287-4c92-b082-252c458f85f7",
   "metadata": {},
   "source": [
    "## Strings"
   ]
  },
  {
   "cell_type": "code",
   "execution_count": 2,
   "id": "4a39985a-1e9e-411a-b9ac-e265e3d514ee",
   "metadata": {},
   "outputs": [],
   "source": [
    "## strings in python are enclosed in single quote or doublwe quote."
   ]
  },
  {
   "cell_type": "code",
   "execution_count": 3,
   "id": "a1d01c02-83d7-4785-b8b3-57b40bb196e4",
   "metadata": {},
   "outputs": [
    {
     "name": "stdout",
     "output_type": "stream",
     "text": [
      "Python Programming Language\n"
     ]
    }
   ],
   "source": [
    "Name = \"Python\"\n",
    "use = \"Programming Language\"\n",
    "\n",
    "print(Name+ \" \"+use)"
   ]
  },
  {
   "cell_type": "code",
   "execution_count": 4,
   "id": "f5dd0f20-0fb2-4120-b396-f5547163a38d",
   "metadata": {},
   "outputs": [
    {
     "name": "stdout",
     "output_type": "stream",
     "text": [
      "Abhilash\n"
     ]
    }
   ],
   "source": [
    "fname = \"Abhilash\"\n",
    "print(fname[::])"
   ]
  },
  {
   "cell_type": "code",
   "execution_count": 5,
   "id": "4f742d67-ee27-41f9-b5b3-e6239372871d",
   "metadata": {},
   "outputs": [
    {
     "name": "stdout",
     "output_type": "stream",
     "text": [
      "hsalihbA\n"
     ]
    }
   ],
   "source": [
    "fname = \"Abhilash\"\n",
    "print(fname[::-1])"
   ]
  },
  {
   "cell_type": "code",
   "execution_count": 7,
   "id": "f595aba2-e90b-4c0c-9477-1e1b5a3ac210",
   "metadata": {},
   "outputs": [
    {
     "name": "stdout",
     "output_type": "stream",
     "text": [
      "Abhi\n"
     ]
    }
   ],
   "source": [
    "fname = \"Abhilash\"\n",
    "print(fname[0:4:])"
   ]
  },
  {
   "cell_type": "code",
   "execution_count": 8,
   "id": "71fae9d1-cc7c-4fe2-aba1-373c91947735",
   "metadata": {},
   "outputs": [
    {
     "data": {
      "text/plain": [
       "True"
      ]
     },
     "execution_count": 8,
     "metadata": {},
     "output_type": "execute_result"
    }
   ],
   "source": [
    "\"l\" in fname"
   ]
  },
  {
   "cell_type": "code",
   "execution_count": 9,
   "id": "4580797f-9f4b-4fde-9fd5-166347a6f5db",
   "metadata": {},
   "outputs": [
    {
     "data": {
      "text/plain": [
       "False"
      ]
     },
     "execution_count": 9,
     "metadata": {},
     "output_type": "execute_result"
    }
   ],
   "source": [
    "\"g\" in fname"
   ]
  },
  {
   "cell_type": "code",
   "execution_count": 11,
   "id": "bbe1d6e0-fa5d-4b6a-a6fb-e424592f9b32",
   "metadata": {},
   "outputs": [
    {
     "name": "stdout",
     "output_type": "stream",
     "text": [
      "Abhilash Bhosale\n"
     ]
    }
   ],
   "source": [
    "fname = \"Abhilash\"\n",
    "lname = \"Bhosale\"\n",
    "\n",
    "full_name = fname + \" \"+ lname\n",
    "\n",
    "print(full_name)"
   ]
  },
  {
   "cell_type": "code",
   "execution_count": 12,
   "id": "77b52f69-91d5-4567-acdf-46b4d8da5819",
   "metadata": {},
   "outputs": [
    {
     "data": {
      "text/plain": [
       "16"
      ]
     },
     "execution_count": 12,
     "metadata": {},
     "output_type": "execute_result"
    }
   ],
   "source": [
    "len(full_name)"
   ]
  },
  {
   "cell_type": "code",
   "execution_count": 13,
   "id": "c394ae28-135c-42d7-82b1-b2637e8ef8a4",
   "metadata": {},
   "outputs": [
    {
     "data": {
      "text/plain": [
       "8"
      ]
     },
     "execution_count": 13,
     "metadata": {},
     "output_type": "execute_result"
    }
   ],
   "source": [
    "len(fname)"
   ]
  },
  {
   "cell_type": "code",
   "execution_count": null,
   "id": "6c256e7b-ff84-4789-a9d6-09722cf5ef58",
   "metadata": {},
   "outputs": [],
   "source": []
  }
 ],
 "metadata": {
  "kernelspec": {
   "display_name": "Python 3 (ipykernel)",
   "language": "python",
   "name": "python3"
  },
  "language_info": {
   "codemirror_mode": {
    "name": "ipython",
    "version": 3
   },
   "file_extension": ".py",
   "mimetype": "text/x-python",
   "name": "python",
   "nbconvert_exporter": "python",
   "pygments_lexer": "ipython3",
   "version": "3.12.7"
  }
 },
 "nbformat": 4,
 "nbformat_minor": 5
}
